{
 "cells": [
  {
   "cell_type": "code",
   "execution_count": 1,
   "id": "architectural-vertex",
   "metadata": {},
   "outputs": [],
   "source": [
    "import numpy as np\n",
    "import cv2\n",
    "from PIL import Image\n",
    "import copy\n",
    "import matplotlib.pyplot as plt\n",
    "import os\n",
    "from utils import helper\n",
    "import pandas as pd"
   ]
  },
  {
   "cell_type": "code",
   "execution_count": 2,
   "id": "supported-berkeley",
   "metadata": {},
   "outputs": [],
   "source": [
    "# Create dataset\n",
    "# Columns: image_path, label_path, bboxes, classes\n",
    "imlabel_list = helper.imlabel('data/kitti/custom_annotated/annotated_images/', 'data/kitti/custom_annotated/labels/')"
   ]
  },
  {
   "cell_type": "code",
   "execution_count": 3,
   "id": "alert-kidney",
   "metadata": {},
   "outputs": [
    {
     "data": {
      "text/plain": [
       "'data/kitti/custom_annotated/annotated_images/2-wheeler-1.jpg'"
      ]
     },
     "execution_count": 3,
     "metadata": {},
     "output_type": "execute_result"
    }
   ],
   "source": [
    "imlabel_list[0][0]"
   ]
  },
  {
   "cell_type": "code",
   "execution_count": 28,
   "id": "laden-ancient",
   "metadata": {},
   "outputs": [
    {
     "data": {
      "text/html": [
       "<div>\n",
       "<style scoped>\n",
       "    .dataframe tbody tr th:only-of-type {\n",
       "        vertical-align: middle;\n",
       "    }\n",
       "\n",
       "    .dataframe tbody tr th {\n",
       "        vertical-align: top;\n",
       "    }\n",
       "\n",
       "    .dataframe thead th {\n",
       "        text-align: right;\n",
       "    }\n",
       "</style>\n",
       "<table border=\"1\" class=\"dataframe\">\n",
       "  <thead>\n",
       "    <tr style=\"text-align: right;\">\n",
       "      <th></th>\n",
       "      <th>image_path</th>\n",
       "      <th>label_path</th>\n",
       "      <th>class</th>\n",
       "      <th>bboxes</th>\n",
       "    </tr>\n",
       "  </thead>\n",
       "  <tbody>\n",
       "    <tr>\n",
       "      <th>0</th>\n",
       "      <td>data/kitti/custom_annotated/annotated_images/2...</td>\n",
       "      <td>data/kitti/custom_annotated/labels/2-wheeler-1...</td>\n",
       "      <td>2-wheeler</td>\n",
       "      <td>[181.0, 83.0, 343.0, 396.0, 7.748604185489348e...</td>\n",
       "    </tr>\n",
       "    <tr>\n",
       "      <th>1</th>\n",
       "      <td>data/kitti/custom_annotated/annotated_images/2...</td>\n",
       "      <td>data/kitti/custom_annotated/labels/2-wheeler-1...</td>\n",
       "      <td>2-wheeler</td>\n",
       "      <td>[557.0, 47.0, 691.0, 377.0, 7.748604185489348e...</td>\n",
       "    </tr>\n",
       "    <tr>\n",
       "      <th>2</th>\n",
       "      <td>data/kitti/custom_annotated/annotated_images/2...</td>\n",
       "      <td>data/kitti/custom_annotated/labels/2-wheeler-1...</td>\n",
       "      <td>2-wheeler</td>\n",
       "      <td>[322.0, 116.0, 439.0, 348.0, 7.748604185489348...</td>\n",
       "    </tr>\n",
       "    <tr>\n",
       "      <th>3</th>\n",
       "      <td>data/kitti/custom_annotated/annotated_images/2...</td>\n",
       "      <td>data/kitti/custom_annotated/labels/2-wheeler-1...</td>\n",
       "      <td>2-wheeler</td>\n",
       "      <td>[426.0, 122.0, 514.0, 295.0, 7.748604185489348...</td>\n",
       "    </tr>\n",
       "    <tr>\n",
       "      <th>4</th>\n",
       "      <td>data/kitti/custom_annotated/annotated_images/2...</td>\n",
       "      <td>data/kitti/custom_annotated/labels/2-wheeler-1...</td>\n",
       "      <td>2-wheeler</td>\n",
       "      <td>[125.0, 134.0, 167.0, 221.0, 7.748604185489348...</td>\n",
       "    </tr>\n",
       "  </tbody>\n",
       "</table>\n",
       "</div>"
      ],
      "text/plain": [
       "                                          image_path  \\\n",
       "0  data/kitti/custom_annotated/annotated_images/2...   \n",
       "1  data/kitti/custom_annotated/annotated_images/2...   \n",
       "2  data/kitti/custom_annotated/annotated_images/2...   \n",
       "3  data/kitti/custom_annotated/annotated_images/2...   \n",
       "4  data/kitti/custom_annotated/annotated_images/2...   \n",
       "\n",
       "                                          label_path      class  \\\n",
       "0  data/kitti/custom_annotated/labels/2-wheeler-1...  2-wheeler   \n",
       "1  data/kitti/custom_annotated/labels/2-wheeler-1...  2-wheeler   \n",
       "2  data/kitti/custom_annotated/labels/2-wheeler-1...  2-wheeler   \n",
       "3  data/kitti/custom_annotated/labels/2-wheeler-1...  2-wheeler   \n",
       "4  data/kitti/custom_annotated/labels/2-wheeler-1...  2-wheeler   \n",
       "\n",
       "                                              bboxes  \n",
       "0  [181.0, 83.0, 343.0, 396.0, 7.748604185489348e...  \n",
       "1  [557.0, 47.0, 691.0, 377.0, 7.748604185489348e...  \n",
       "2  [322.0, 116.0, 439.0, 348.0, 7.748604185489348...  \n",
       "3  [426.0, 122.0, 514.0, 295.0, 7.748604185489348...  \n",
       "4  [125.0, 134.0, 167.0, 221.0, 7.748604185489348...  "
      ]
     },
     "execution_count": 28,
     "metadata": {},
     "output_type": "execute_result"
    }
   ],
   "source": [
    "df = pd.DataFrame(columns = ['image_path','label_path','class','bboxes'])\n",
    "# df = pd.DataFrame()\n",
    "# df['image_path'] = imlabel_list[:][0]\n",
    "# df['label_path'] = imlabel_list[:][1]\n",
    "# df.head()\n",
    "\n",
    "for item in imlabel_list:\n",
    "    bboxes = helper.fetch_bboxes(item[1]).tolist()\n",
    "    classes = helper.fetch_classes(item[1])\n",
    "    for i,cls_bbox in enumerate(zip(classes,bboxes)):\n",
    "        # print(cls_bbox)\n",
    "        #df.loc[i,'image_path'] = item[0]\n",
    "        #df.loc[i,'label_path'] = item[1]\n",
    "        #df.loc[i,'class'] = cls_bbox[0]\n",
    "        \n",
    "        #df.loc[i,'bboxes'] = cls_bbox[1]\n",
    "        # df = df.append([item[0],item[1],cls_bbox[0],cls_bbox[1]])\n",
    "        df = df.append({'image_path':item[0], 'label_path': item[1],\n",
    "                        'class': cls_bbox[0], 'bboxes': cls_bbox[1]}, ignore_index=True)\n",
    "df.head()        "
   ]
  },
  {
   "cell_type": "code",
   "execution_count": 32,
   "id": "bright-racing",
   "metadata": {},
   "outputs": [
    {
     "data": {
      "text/plain": [
       "array(['2-wheeler', 'pedestrian', 'car', 'dontcare'], dtype=object)"
      ]
     },
     "execution_count": 32,
     "metadata": {},
     "output_type": "execute_result"
    }
   ],
   "source": [
    "df['class'].unique()\n",
    "\n",
    "class_dict = {'2-wheeler': 0, \n",
    "              'pedestrian': 1, 'car': 2,\n",
    "              'dontcare': 4}\n",
    "\n",
    "df_train['class'] = df_train['class'].apply(lambda x:  class_dict[x])"
   ]
  },
  {
   "cell_type": "code",
   "execution_count": null,
   "id": "imported-greensboro",
   "metadata": {},
   "outputs": [],
   "source": [
    "class Kitti:\n",
    "    \n",
    "    def init():"
   ]
  }
 ],
 "metadata": {
  "kernelspec": {
   "display_name": "Python 3",
   "language": "python",
   "name": "python3"
  },
  "language_info": {
   "codemirror_mode": {
    "name": "ipython",
    "version": 3
   },
   "file_extension": ".py",
   "mimetype": "text/x-python",
   "name": "python",
   "nbconvert_exporter": "python",
   "pygments_lexer": "ipython3",
   "version": "3.8.8"
  }
 },
 "nbformat": 4,
 "nbformat_minor": 5
}
